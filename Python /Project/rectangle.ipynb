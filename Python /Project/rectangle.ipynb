{
  "nbformat": 4,
  "nbformat_minor": 0,
  "metadata": {
    "colab": {
      "provenance": [],
      "authorship_tag": "ABX9TyPoQ1U9rC2VAMmURH9qiazO",
      "include_colab_link": true
    },
    "kernelspec": {
      "name": "python3",
      "display_name": "Python 3"
    },
    "language_info": {
      "name": "python"
    }
  },
  "cells": [
    {
      "cell_type": "markdown",
      "metadata": {
        "id": "view-in-github",
        "colab_type": "text"
      },
      "source": [
        "<a href=\"https://colab.research.google.com/github/boctory/AIFFEL_quest_cr/blob/main/%08Python%20/Project/rectangle.ipynb\" target=\"_parent\"><img src=\"https://colab.research.google.com/assets/colab-badge.svg\" alt=\"Open In Colab\"/></a>"
      ]
    },
    {
      "cell_type": "code",
      "execution_count": 3,
      "metadata": {
        "colab": {
          "base_uri": "https://localhost:8080/"
        },
        "id": "di4doLKouG0c",
        "outputId": "87bcc0ed-59b3-4c30-91a2-b4e053a5fa9d"
      },
      "outputs": [
        {
          "output_type": "stream",
          "name": "stdout",
          "text": [
            "넓이를 구하고 싶은 사각형의 숫자를 써주세요.\n",
            " 1.직사각형 2.평행사변형 3.사다리꼴 \n",
            " >>>2\n",
            "평행사변형 함수는 par()입니다.\n",
            "밑변의 길이를 입력하세요: 23\n",
            "높이를 입력하세요: 43\n",
            "평행사변형의 넓이는 : 989.0\n"
          ]
        }
      ],
      "source": [
        "# 사각형 넓이를 구하는 클래스 완성!\n",
        "class Square:\n",
        "    def __init__(self):\n",
        "        self.square = int(input('넓이를 구하고 싶은 사각형의 숫자를 써주세요.\\n 1.직사각형 2.평행사변형 3.사다리꼴 \\n >>>'))\n",
        "\n",
        "        if self.square == 1:\n",
        "            print('직사각형 함수는 rect()입니다.')\n",
        "            print(self.rect())\n",
        "\n",
        "        elif self.square == 2:\n",
        "            print('평행사변형 함수는 par()입니다.')\n",
        "            print(self.par())\n",
        "\n",
        "        elif self.square == 3:\n",
        "            print('사다리꼴 함수는 trape()입니다.')\n",
        "            print(self.trape())\n",
        "\n",
        "        else:\n",
        "            print('1, 2, 3 중에서 다시 입력해주세요')\n",
        "\n",
        "    def rect(self):\n",
        "        width, vertical = map(int, input('가로, 세로를 입력하세요. 예시 : 가로,세로\\n >>>').split(','))\n",
        "        area = width * vertical\n",
        "        result = '직사각형의 넓이는 : ' + str(area)\n",
        "        return result\n",
        "\n",
        "    def par(self):\n",
        "        base = float(input('밑변의 길이를 입력하세요: '))  # 밑변 입력\n",
        "        height = float(input('높이를 입력하세요: '))    # 높이 입력\n",
        "        area = base * height  # 넓이 계산\n",
        "        result = '평행사변형의 넓이는 : ' + str(area)  # 결과 문자열 생성\n",
        "        return result  # 결과 반환\n",
        "\n",
        "    def trape(self):\n",
        "        base1 = float(input('윗변의 길이를 입력하세요: '))  # 윗변 입력\n",
        "        base2 = float(input('아랫변의 길이를 입력하세요: '))  # 아랫변 입력\n",
        "        height = float(input('높이를 입력하세요: '))        # 높이 입력\n",
        "        area = (base1 + base2) * height / 2  # 넓이 계산\n",
        "        result = '사다리꼴의 넓이는 : ' + str(area)  # 결과 문자열 생성\n",
        "        return result  # 결과 반환\n",
        "\n",
        "# 객체 생성\n",
        "a = Square()  # 1, 2, 3을 각각 입력해 봅시다.\n",
        "\n",
        "def par(self):\n",
        "    base, height = map(float, input('밑변의 길이와 높이를 입력하세요 (예: 3,2): ').split(','))\n",
        "    area = base * height  # 넓이 계산\n",
        "    result = '평행사변형의 넓이는 : ' + str(area)  # 결과 문자열 생성\n",
        "    return result  # 결과 반환"
      ]
    }
  ]
}